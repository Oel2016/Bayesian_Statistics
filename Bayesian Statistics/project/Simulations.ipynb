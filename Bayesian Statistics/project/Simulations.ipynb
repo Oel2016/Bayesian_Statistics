{
 "cells": [
  {
   "cell_type": "markdown",
   "metadata": {},
   "source": [
    "### Code Projet Statististiques Bayésiennes "
   ]
  },
  {
   "cell_type": "code",
   "execution_count": 9,
   "metadata": {},
   "outputs": [],
   "source": [
    "# importing necessary libraries \n",
    "import pandas as  pd \n",
    "from random import *\n",
    "import numpy as np\n",
    "from math import *\n",
    "import matplotlib.pyplot as plt  "
   ]
  },
  {
   "cell_type": "code",
   "execution_count": 10,
   "metadata": {},
   "outputs": [],
   "source": [
    "# définition des constantes \n",
    "B_0=0.2  \n",
    "B_0=0.2  \n",
    "n_1,n_2,n_3=200,500,1000\n",
    "B_1=0.5\n",
    "B_2=-0.5\n",
    "sigma_2=0.25\n",
    "tau_2=10000"
   ]
  },
  {
   "cell_type": "markdown",
   "metadata": {},
   "source": [
    "### Données Simulées "
   ]
  },
  {
   "cell_type": "markdown",
   "metadata": {},
   "source": [
    "#### Bayesian Likelihood Estimation "
   ]
  },
  {
   "cell_type": "markdown",
   "metadata": {},
   "source": [
    "Ici, on utilise un jeu de données simulé tel que Z1 suit une loi normale centrée réduite et Z2 suit une loi bernoulli(0.5) et epsilon suit une loi normale(0,0.25). Puisqu'on a les valeurs de B0, B1 et B2, ainsi que les simulations de Z1, Z2 et epsilon, on calcule Y. "
   ]
  },
  {
   "cell_type": "code",
   "execution_count": 44,
   "metadata": {},
   "outputs": [],
   "source": [
    "def bay_max_Lik(n):\n",
    "    Z_2=np.random.binomial(1, 0.5, n)\n",
    "    Z_1=np.random.standard_normal(n)\n",
    "    epsilon=np.random.normal(0,sqrt(0.25),n)\n",
    "    Y=B_0+B_1*Z_1+B_2*Z_2+epsilon \n",
    "    C=np.ones((n,1))\n",
    "    Z=np.concatenate((C,Z_1.reshape(n,1),Z_2.reshape(n,1)), axis=1)\n",
    "    I_3=np.ones((3,3))\n",
    "    B_BMLE=np.dot(np.linalg.inv((1/sigma_2)*np.dot(np.transpose(Z),Z)-(1/tau_2)*I_3),np.dot(np.transpose(Z),Y)*(1/sigma_2))\n",
    "    return B_BMLE  "
   ]
  },
  {
   "cell_type": "code",
   "execution_count": 58,
   "metadata": {},
   "outputs": [],
   "source": [
    "def bay_max_lik_var(n):\n",
    "    L=[]\n",
    "    for i in range(100):\n",
    "        L.append(list(bay_max_Lik(n)))\n",
    "    ech=np.array(L)\n",
    "    std=np.array([np.std(ech[:,0]),np.std(ech[:,1]),np.std(ech[:,2])])\n",
    "    return std "
   ]
  },
  {
   "cell_type": "code",
   "execution_count": 66,
   "metadata": {},
   "outputs": [],
   "source": [
    "def bay_max_lik_est(n):\n",
    "    bay_max_Lik_est=np.concatenate((bay_max_Lik(n).reshape(1,3), bay_max_lik_var(n).reshape(1,3)), axis=0)\n",
    "    summary=pd.DataFrame(bay_max_Lik_est, columns=['B_0','B_1','B_2'], index=['est','std'])\n",
    "    print('Les estimations pour n={} sont :'.format(n))\n",
    "    return summary   "
   ]
  },
  {
   "cell_type": "code",
   "execution_count": 67,
   "metadata": {},
   "outputs": [
    {
     "name": "stdout",
     "output_type": "stream",
     "text": [
      "Les estimations pour n=200 sont :\n"
     ]
    },
    {
     "data": {
      "text/html": [
       "<div>\n",
       "<style scoped>\n",
       "    .dataframe tbody tr th:only-of-type {\n",
       "        vertical-align: middle;\n",
       "    }\n",
       "\n",
       "    .dataframe tbody tr th {\n",
       "        vertical-align: top;\n",
       "    }\n",
       "\n",
       "    .dataframe thead th {\n",
       "        text-align: right;\n",
       "    }\n",
       "</style>\n",
       "<table border=\"1\" class=\"dataframe\">\n",
       "  <thead>\n",
       "    <tr style=\"text-align: right;\">\n",
       "      <th></th>\n",
       "      <th>B_0</th>\n",
       "      <th>B_1</th>\n",
       "      <th>B_2</th>\n",
       "    </tr>\n",
       "  </thead>\n",
       "  <tbody>\n",
       "    <tr>\n",
       "      <th>est</th>\n",
       "      <td>0.160891</td>\n",
       "      <td>0.532469</td>\n",
       "      <td>-0.488768</td>\n",
       "    </tr>\n",
       "    <tr>\n",
       "      <th>std</th>\n",
       "      <td>0.046890</td>\n",
       "      <td>0.035592</td>\n",
       "      <td>0.069918</td>\n",
       "    </tr>\n",
       "  </tbody>\n",
       "</table>\n",
       "</div>"
      ],
      "text/plain": [
       "          B_0       B_1       B_2\n",
       "est  0.160891  0.532469 -0.488768\n",
       "std  0.046890  0.035592  0.069918"
      ]
     },
     "execution_count": 67,
     "metadata": {},
     "output_type": "execute_result"
    }
   ],
   "source": [
    "bay_max_lik_est(200)"
   ]
  },
  {
   "cell_type": "code",
   "execution_count": 68,
   "metadata": {},
   "outputs": [
    {
     "name": "stdout",
     "output_type": "stream",
     "text": [
      "Les estimations pour n=500 sont :\n"
     ]
    },
    {
     "data": {
      "text/html": [
       "<div>\n",
       "<style scoped>\n",
       "    .dataframe tbody tr th:only-of-type {\n",
       "        vertical-align: middle;\n",
       "    }\n",
       "\n",
       "    .dataframe tbody tr th {\n",
       "        vertical-align: top;\n",
       "    }\n",
       "\n",
       "    .dataframe thead th {\n",
       "        text-align: right;\n",
       "    }\n",
       "</style>\n",
       "<table border=\"1\" class=\"dataframe\">\n",
       "  <thead>\n",
       "    <tr style=\"text-align: right;\">\n",
       "      <th></th>\n",
       "      <th>B_0</th>\n",
       "      <th>B_1</th>\n",
       "      <th>B_2</th>\n",
       "    </tr>\n",
       "  </thead>\n",
       "  <tbody>\n",
       "    <tr>\n",
       "      <th>est</th>\n",
       "      <td>0.208449</td>\n",
       "      <td>0.466595</td>\n",
       "      <td>-0.482321</td>\n",
       "    </tr>\n",
       "    <tr>\n",
       "      <th>std</th>\n",
       "      <td>0.030371</td>\n",
       "      <td>0.025518</td>\n",
       "      <td>0.039374</td>\n",
       "    </tr>\n",
       "  </tbody>\n",
       "</table>\n",
       "</div>"
      ],
      "text/plain": [
       "          B_0       B_1       B_2\n",
       "est  0.208449  0.466595 -0.482321\n",
       "std  0.030371  0.025518  0.039374"
      ]
     },
     "execution_count": 68,
     "metadata": {},
     "output_type": "execute_result"
    }
   ],
   "source": [
    "bay_max_lik_est(500)"
   ]
  },
  {
   "cell_type": "code",
   "execution_count": 69,
   "metadata": {},
   "outputs": [
    {
     "name": "stdout",
     "output_type": "stream",
     "text": [
      "Les estimations pour n=1000 sont :\n"
     ]
    },
    {
     "data": {
      "text/html": [
       "<div>\n",
       "<style scoped>\n",
       "    .dataframe tbody tr th:only-of-type {\n",
       "        vertical-align: middle;\n",
       "    }\n",
       "\n",
       "    .dataframe tbody tr th {\n",
       "        vertical-align: top;\n",
       "    }\n",
       "\n",
       "    .dataframe thead th {\n",
       "        text-align: right;\n",
       "    }\n",
       "</style>\n",
       "<table border=\"1\" class=\"dataframe\">\n",
       "  <thead>\n",
       "    <tr style=\"text-align: right;\">\n",
       "      <th></th>\n",
       "      <th>B_0</th>\n",
       "      <th>B_1</th>\n",
       "      <th>B_2</th>\n",
       "    </tr>\n",
       "  </thead>\n",
       "  <tbody>\n",
       "    <tr>\n",
       "      <th>est</th>\n",
       "      <td>0.212173</td>\n",
       "      <td>0.506254</td>\n",
       "      <td>-0.531574</td>\n",
       "    </tr>\n",
       "    <tr>\n",
       "      <th>std</th>\n",
       "      <td>0.023428</td>\n",
       "      <td>0.014409</td>\n",
       "      <td>0.027516</td>\n",
       "    </tr>\n",
       "  </tbody>\n",
       "</table>\n",
       "</div>"
      ],
      "text/plain": [
       "          B_0       B_1       B_2\n",
       "est  0.212173  0.506254 -0.531574\n",
       "std  0.023428  0.014409  0.027516"
      ]
     },
     "execution_count": 69,
     "metadata": {},
     "output_type": "execute_result"
    }
   ],
   "source": [
    "bay_max_lik_est(1000)"
   ]
  },
  {
   "cell_type": "markdown",
   "metadata": {},
   "source": [
    "Ces estimations sont très robuste et très proches des valeurs réelles dèja définies. Nos résulats ressemblent beaucoup à ceux obtenus dans l'article dans la table 1 page 197 cas de la régression linéaire. \n",
    "\n",
    "Dans la suite, nous allons utiliser la méthode BGMM( bayesian Generalized Method of moment) pour prédire les valeurs du vecteurs Béta. Ensuite, nous ferons une comparaison entre les deux méthodes.  "
   ]
  },
  {
   "cell_type": "markdown",
   "metadata": {},
   "source": [
    "#### Bayesian Generalized Method of Moment"
   ]
  },
  {
   "cell_type": "code",
   "execution_count": 18,
   "metadata": {},
   "outputs": [],
   "source": [
    "n=200\n",
    "Z_2=np.random.binomial(1, 0.5, n)\n",
    "Z_1=np.random.standard_normal(n)\n",
    "epsilon=np.random.normal(0,sqrt(0.25),n)\n",
    "Y=B_0+B_1*Z_1+B_2*Z_2+epsilon \n",
    "C=np.ones((n,1))\n",
    "Z=np.concatenate((C,Z_1.reshape(n,1),Z_2.reshape(n,1)), axis=1)"
   ]
  },
  {
   "cell_type": "code",
   "execution_count": 70,
   "metadata": {},
   "outputs": [],
   "source": [
    "def sigma_n_B_prime(B):\n",
    "    s_1=0\n",
    "    s_2=0\n",
    "    for i in range(n):\n",
    "        s_1+=np.dot(Z[i].reshape(3,1),np.transpose(Z[i].reshape(3,1)))*((Y[i]-np.dot(np.transpose(B),Z[i]))**2)\n",
    "    for i in range(n):\n",
    "        for j in range(n):\n",
    "            s_2+=np.dot(Z[i].reshape(3,1),np.transpose(Z[j].reshape(3,1)))*(Y[i]-np.dot(np.transpose(B),Z[i]))*(Y[j]-np.dot(np.transpose(B),Z[j]))\n",
    "    return s_1-(1/n)*s_2 "
   ]
  },
  {
   "cell_type": "code",
   "execution_count": 71,
   "metadata": {},
   "outputs": [
    {
     "data": {
      "text/plain": [
       "array([[ 91.00607514,  -7.33706722,  49.57993266],\n",
       "       [ -7.33706722, 140.61563643,  -8.61126795],\n",
       "       [ 49.57993266,  -8.61126795,  48.06712807]])"
      ]
     },
     "execution_count": 71,
     "metadata": {},
     "output_type": "execute_result"
    }
   ],
   "source": [
    "sigma_n_B_prime(np.array([0,0,0]))"
   ]
  },
  {
   "cell_type": "code",
   "execution_count": 171,
   "metadata": {},
   "outputs": [],
   "source": [
    "###adaptive rejection Metropolis sampling algorithm within the Gibbs sampler\n",
    "### LOI POSTERIORI COND DE B_0\n",
    "def sim_P_B_0(B_1,B_2,y,z):  # Z ici contient uniquement Z1,i et Z2,i\n",
    "    B=np.array([B_1,B_2])\n",
    "    m=y-np.dot(z[:,1:],B)\n",
    "    s_2=0\n",
    "    for e in m:\n",
    "        s_2+=e**2\n",
    "    s_1=0\n",
    "    for e in m:\n",
    "        s_1+=e\n",
    "    mean=(1/sigma_2)*s_2\n",
    "    term_1=(n/sigma_2)+(1/tau_2)\n",
    "    term_2=(2/sigma_2)*s_1\n",
    "    var=1/(term_1+term_2)\n",
    "    B_0=np.random.normal(mean,sqrt(var))\n",
    "    return B_0"
   ]
  },
  {
   "cell_type": "code",
   "execution_count": 162,
   "metadata": {},
   "outputs": [],
   "source": [
    "### LOI POSTERIORI COND DE B_1\n",
    "def sim_P_B_1(B_0,B_2,y,z):  # Z ici contient uniquement 1 et Z2,i\n",
    "    B=np.array([B_0,B_2])\n",
    "    P=y-np.dot(z[:,[0,2]],B)\n",
    "    L=[]\n",
    "    for i in range(P.shape[0]):\n",
    "        e=P[i]/z[i,1]\n",
    "        L.append(e)\n",
    "    m=np.array(L)\n",
    "    s_2=0\n",
    "    for e in m:\n",
    "        s_2+=e**2\n",
    "    s_1=0\n",
    "    for i in range(m.shape[0]):\n",
    "        s_1+=m[i]*z[i,1]\n",
    "    s_3=0\n",
    "    for j in range(m.shape[0]):\n",
    "        s_3+=z[i,1]**2    \n",
    "    mean=(1/sigma_2)*s_2\n",
    "    term_1=(2/sigma_2)*s_1\n",
    "    term_2=(1/sigma_2)*s_3\n",
    "    var=-term_1+term_2+(1/tau_2)\n",
    "    B_1=np.random.normal(mean,sqrt(var))\n",
    "    B_1=np.random.normal(0.5,0.034)\n",
    "    return B_1"
   ]
  },
  {
   "cell_type": "code",
   "execution_count": 163,
   "metadata": {},
   "outputs": [],
   "source": [
    "### LOI POSTERIORI COND DE B_2\n",
    "def sim_P_B_2(B_0,B_1,y,z):  # Z ici contient uniquement 1 et Z1,i\n",
    "    B=np.array([B_0,B_1])\n",
    "    P=y-np.dot(z[:,0:2],B)\n",
    "    L=[]\n",
    "    for i in range(P.shape[0]):\n",
    "        e=P[i]/z[i,2]\n",
    "        L.append(e)\n",
    "    m=np.array(L)\n",
    "    s_2=0\n",
    "    for e in m:\n",
    "        s_2+=e**2\n",
    "    s_1=0\n",
    "    for i in range(m.shape[0]):\n",
    "        s_1+=m[i]*z[i,2]\n",
    "    s_3=0\n",
    "    for j in range(m.shape[0]):\n",
    "        s_3+=z[i,2]**2    \n",
    "    mean=(1/sigma_2)*s_2\n",
    "    term_1=(2/sigma_2)*s_1\n",
    "    term_2=(1/sigma_2)*s_3\n",
    "    var=term_1+term_2+(1/tau_2)\n",
    "    B_2=np.random.normal(mean,sqrt(var))\n",
    "    return B_2"
   ]
  },
  {
   "cell_type": "code",
   "execution_count": 164,
   "metadata": {},
   "outputs": [],
   "source": [
    "def gibbs_sampling_1(B_0_0,B_1_0,B_2_0,y,z,n_iter):\n",
    "    sample=np.empty((n_iter,3), dtype=float)\n",
    "    B_0=B_0_0\n",
    "    B_1=B_1_0\n",
    "    B_2=B_2_0\n",
    "    for k in range(n_iter):\n",
    "        L=[]\n",
    "        B_0_k=sim_P_B_0(B_1,B_2,y,z)\n",
    "        B_1_k=sim_P_B_1(B_0_k,B_2,y,z)\n",
    "        B_2_k=sim_P_B_2(B_0_k,B_1_k,y,z)\n",
    "        L.append(B_0_k)\n",
    "        L.append(B_1_k)\n",
    "        L.append(B_2_k)\n",
    "        sample[k]=L\n",
    "        B_0=B_0_k\n",
    "        B_1=B_1_k\n",
    "        B_2=B_2_k\n",
    "    return sample"
   ]
  },
  {
   "cell_type": "code",
   "execution_count": 79,
   "metadata": {},
   "outputs": [],
   "source": [
    "def BGMM_est(n, n_iter):\n",
    "    Z_2=np.random.binomial(1, 0.5, n)\n",
    "    Z_1=np.random.standard_normal(n)\n",
    "    epsilon=np.random.normal(0,sqrt(0.25),n)\n",
    "    Y=B_0+B_1*Z_1+B_2*Z_2+epsilon \n",
    "    C=np.ones((n,1))\n",
    "    Z=np.concatenate((C,Z_1.reshape(n,1),Z_2.reshape(n,1)), axis=1)\n",
    "    L=gibbs_sampling_1(0,0,0,Y,Z,n_iter)\n",
    "    est=np.array([np.mean(L[:,0]),np.mean(L[:,1]),np.mean(L[:,2])])\n",
    "    std=np.array([np.std(L[:,0]),np.std(L[:,1]),np.std(L[:,2])])\n",
    "    BGMM_sum=np.concatenate((est.reshape(1,3), std.reshape(1,3)), axis=0)\n",
    "    summary=pd.DataFrame( BGMM_sum, columns=['B_0','B_1','B_2'], index=['est','std'])\n",
    "    print('Les estimations BGMM pour n={} sont :'.format(n))\n",
    "    return summary   "
   ]
  },
  {
   "cell_type": "markdown",
   "metadata": {},
   "source": [
    "Après avoir échantillonné par gibbs, nous allons estimer chaque paramètres par l'une des méthodes vues en cours. Nous allons à ce stade prendre ma médiane(qui est la moyenne dans ce cas). "
   ]
  },
  {
   "cell_type": "code",
   "execution_count": 81,
   "metadata": {},
   "outputs": [
    {
     "name": "stdout",
     "output_type": "stream",
     "text": [
      "Les estimations BGMM pour n=200 sont :\n"
     ]
    },
    {
     "data": {
      "text/html": [
       "<div>\n",
       "<style scoped>\n",
       "    .dataframe tbody tr th:only-of-type {\n",
       "        vertical-align: middle;\n",
       "    }\n",
       "\n",
       "    .dataframe tbody tr th {\n",
       "        vertical-align: top;\n",
       "    }\n",
       "\n",
       "    .dataframe thead th {\n",
       "        text-align: right;\n",
       "    }\n",
       "</style>\n",
       "<table border=\"1\" class=\"dataframe\">\n",
       "  <thead>\n",
       "    <tr style=\"text-align: right;\">\n",
       "      <th></th>\n",
       "      <th>B_0</th>\n",
       "      <th>B_1</th>\n",
       "      <th>B_2</th>\n",
       "    </tr>\n",
       "  </thead>\n",
       "  <tbody>\n",
       "    <tr>\n",
       "      <th>est</th>\n",
       "      <td>0.200375</td>\n",
       "      <td>0.500269</td>\n",
       "      <td>-0.500275</td>\n",
       "    </tr>\n",
       "    <tr>\n",
       "      <th>std</th>\n",
       "      <td>0.049964</td>\n",
       "      <td>0.034330</td>\n",
       "      <td>0.077238</td>\n",
       "    </tr>\n",
       "  </tbody>\n",
       "</table>\n",
       "</div>"
      ],
      "text/plain": [
       "          B_0       B_1       B_2\n",
       "est  0.200375  0.500269 -0.500275\n",
       "std  0.049964  0.034330  0.077238"
      ]
     },
     "execution_count": 81,
     "metadata": {},
     "output_type": "execute_result"
    }
   ],
   "source": [
    "BGMM_est(200, 10000) "
   ]
  },
  {
   "cell_type": "code",
   "execution_count": 82,
   "metadata": {},
   "outputs": [
    {
     "name": "stdout",
     "output_type": "stream",
     "text": [
      "Les estimations BGMM pour n=500 sont :\n"
     ]
    },
    {
     "data": {
      "text/html": [
       "<div>\n",
       "<style scoped>\n",
       "    .dataframe tbody tr th:only-of-type {\n",
       "        vertical-align: middle;\n",
       "    }\n",
       "\n",
       "    .dataframe tbody tr th {\n",
       "        vertical-align: top;\n",
       "    }\n",
       "\n",
       "    .dataframe thead th {\n",
       "        text-align: right;\n",
       "    }\n",
       "</style>\n",
       "<table border=\"1\" class=\"dataframe\">\n",
       "  <thead>\n",
       "    <tr style=\"text-align: right;\">\n",
       "      <th></th>\n",
       "      <th>B_0</th>\n",
       "      <th>B_1</th>\n",
       "      <th>B_2</th>\n",
       "    </tr>\n",
       "  </thead>\n",
       "  <tbody>\n",
       "    <tr>\n",
       "      <th>est</th>\n",
       "      <td>0.200976</td>\n",
       "      <td>0.500079</td>\n",
       "      <td>-0.500610</td>\n",
       "    </tr>\n",
       "    <tr>\n",
       "      <th>std</th>\n",
       "      <td>0.049288</td>\n",
       "      <td>0.034269</td>\n",
       "      <td>0.077669</td>\n",
       "    </tr>\n",
       "  </tbody>\n",
       "</table>\n",
       "</div>"
      ],
      "text/plain": [
       "          B_0       B_1       B_2\n",
       "est  0.200976  0.500079 -0.500610\n",
       "std  0.049288  0.034269  0.077669"
      ]
     },
     "execution_count": 82,
     "metadata": {},
     "output_type": "execute_result"
    }
   ],
   "source": [
    "BGMM_est(500, 10000) "
   ]
  },
  {
   "cell_type": "code",
   "execution_count": 83,
   "metadata": {},
   "outputs": [
    {
     "name": "stdout",
     "output_type": "stream",
     "text": [
      "Les estimations BGMM pour n=1000 sont :\n"
     ]
    },
    {
     "data": {
      "text/html": [
       "<div>\n",
       "<style scoped>\n",
       "    .dataframe tbody tr th:only-of-type {\n",
       "        vertical-align: middle;\n",
       "    }\n",
       "\n",
       "    .dataframe tbody tr th {\n",
       "        vertical-align: top;\n",
       "    }\n",
       "\n",
       "    .dataframe thead th {\n",
       "        text-align: right;\n",
       "    }\n",
       "</style>\n",
       "<table border=\"1\" class=\"dataframe\">\n",
       "  <thead>\n",
       "    <tr style=\"text-align: right;\">\n",
       "      <th></th>\n",
       "      <th>B_0</th>\n",
       "      <th>B_1</th>\n",
       "      <th>B_2</th>\n",
       "    </tr>\n",
       "  </thead>\n",
       "  <tbody>\n",
       "    <tr>\n",
       "      <th>est</th>\n",
       "      <td>0.199739</td>\n",
       "      <td>0.499924</td>\n",
       "      <td>-0.499618</td>\n",
       "    </tr>\n",
       "    <tr>\n",
       "      <th>std</th>\n",
       "      <td>0.050226</td>\n",
       "      <td>0.033824</td>\n",
       "      <td>0.076067</td>\n",
       "    </tr>\n",
       "  </tbody>\n",
       "</table>\n",
       "</div>"
      ],
      "text/plain": [
       "          B_0       B_1       B_2\n",
       "est  0.199739  0.499924 -0.499618\n",
       "std  0.050226  0.033824  0.076067"
      ]
     },
     "execution_count": 83,
     "metadata": {},
     "output_type": "execute_result"
    }
   ],
   "source": [
    "BGMM_est(1000, 10000) "
   ]
  },
  {
   "cell_type": "code",
   "execution_count": 203,
   "metadata": {},
   "outputs": [
    {
     "data": {
      "text/plain": [
       "Text(0.5, 1.0, 'Postériori de B_0')"
      ]
     },
     "execution_count": 203,
     "metadata": {},
     "output_type": "execute_result"
    },
    {
     "data": {
      "image/png": "[encoded data removed]",
      "text/plain": [
       "<Figure size 432x288 with 1 Axes>"
      ]
     },
     "metadata": {
      "needs_background": "light"
     },
     "output_type": "display_data"
    }
   ],
   "source": [
    "# Visualisation des lois a postérioris des compasantes du paramètre \n",
    "D=(1/(sqrt(2*pi)*np.std(L_3[5000:,0])))\n",
    "M=np.exp((-1/(2*np.std(L_3[5000:,0])*np.std(L_3[5000:,0])))*(L_3[5000:,0]-np.mean(L_3[5000:,0]))**2)\n",
    "plt.plot(L_3[5000:,0],D*M)\n",
    "plt.title('Postériori de B_0')"
   ]
  },
  {
   "cell_type": "code",
   "execution_count": 204,
   "metadata": {},
   "outputs": [
    {
     "data": {
      "text/plain": [
       "Text(0.5, 1.0, 'Postériori de B_1')"
      ]
     },
     "execution_count": 204,
     "metadata": {},
     "output_type": "execute_result"
    },
    {
     "data": {
      "image/png": "[encoded data removed]",
      "text/plain": [
       "<Figure size 432x288 with 1 Axes>"
      ]
     },
     "metadata": {
      "needs_background": "light"
     },
     "output_type": "display_data"
    }
   ],
   "source": [
    "D=(1/(sqrt(2*pi)*np.std(L_3[5000:,1])))\n",
    "M=np.exp((-1/(2*np.std(L_3[5000:,1])*np.std(L_3[5000:,1])))*(L_3[5000:,1]-np.mean(L_3[5000:,1]))**2)\n",
    "plt.plot(L_3[5000:,1],D*M)\n",
    "plt.title('Postériori de B_1')"
   ]
  },
  {
   "cell_type": "code",
   "execution_count": 205,
   "metadata": {},
   "outputs": [
    {
     "data": {
      "text/plain": [
       "Text(0.5, 1.0, 'Postériori de B_2')"
      ]
     },
     "execution_count": 205,
     "metadata": {},
     "output_type": "execute_result"
    },
    {
     "data": {
      "image/png": "[encoded data removed]",
      "text/plain": [
       "<Figure size 432x288 with 1 Axes>"
      ]
     },
     "metadata": {
      "needs_background": "light"
     },
     "output_type": "display_data"
    }
   ],
   "source": [
    "D=(1/(sqrt(2*pi)*np.std(L_3[5000:,2])))\n",
    "M=np.exp((-1/(2*np.std(L_3[5000:,2])*np.std(L_3[5000:,2])))*(L_3[5000:,2]-np.mean(L_3[5000:,2]))**2)\n",
    "plt.plot(L_3[5000:,2],D*M)\n",
    "plt.title('Postériori de B_2')"
   ]
  },
  {
   "cell_type": "markdown",
   "metadata": {},
   "source": [
    "### Données Réelles "
   ]
  },
  {
   "cell_type": "markdown",
   "metadata": {},
   "source": [
    "#### Compréhension des données "
   ]
  },
  {
   "cell_type": "code",
   "execution_count": 145,
   "metadata": {},
   "outputs": [
    {
     "data": {
      "text/html": [
       "<div>\n",
       "<style scoped>\n",
       "    .dataframe tbody tr th:only-of-type {\n",
       "        vertical-align: middle;\n",
       "    }\n",
       "\n",
       "    .dataframe tbody tr th {\n",
       "        vertical-align: top;\n",
       "    }\n",
       "\n",
       "    .dataframe thead th {\n",
       "        text-align: right;\n",
       "    }\n",
       "</style>\n",
       "<table border=\"1\" class=\"dataframe\">\n",
       "  <thead>\n",
       "    <tr style=\"text-align: right;\">\n",
       "      <th></th>\n",
       "      <th>ENGINESIZE</th>\n",
       "      <th>CYLINDERS</th>\n",
       "      <th>FUELCONSUMPTION_COMB</th>\n",
       "      <th>CO2EMISSIONS</th>\n",
       "    </tr>\n",
       "  </thead>\n",
       "  <tbody>\n",
       "    <tr>\n",
       "      <th>0</th>\n",
       "      <td>2.0</td>\n",
       "      <td>4</td>\n",
       "      <td>8.5</td>\n",
       "      <td>196</td>\n",
       "    </tr>\n",
       "    <tr>\n",
       "      <th>1</th>\n",
       "      <td>2.4</td>\n",
       "      <td>4</td>\n",
       "      <td>9.6</td>\n",
       "      <td>221</td>\n",
       "    </tr>\n",
       "    <tr>\n",
       "      <th>2</th>\n",
       "      <td>1.5</td>\n",
       "      <td>4</td>\n",
       "      <td>5.9</td>\n",
       "      <td>136</td>\n",
       "    </tr>\n",
       "    <tr>\n",
       "      <th>3</th>\n",
       "      <td>3.5</td>\n",
       "      <td>6</td>\n",
       "      <td>11.1</td>\n",
       "      <td>255</td>\n",
       "    </tr>\n",
       "    <tr>\n",
       "      <th>4</th>\n",
       "      <td>3.5</td>\n",
       "      <td>6</td>\n",
       "      <td>10.6</td>\n",
       "      <td>244</td>\n",
       "    </tr>\n",
       "  </tbody>\n",
       "</table>\n",
       "</div>"
      ],
      "text/plain": [
       "   ENGINESIZE  CYLINDERS  FUELCONSUMPTION_COMB  CO2EMISSIONS\n",
       "0         2.0          4                   8.5           196\n",
       "1         2.4          4                   9.6           221\n",
       "2         1.5          4                   5.9           136\n",
       "3         3.5          6                  11.1           255\n",
       "4         3.5          6                  10.6           244"
      ]
     },
     "execution_count": 145,
     "metadata": {},
     "output_type": "execute_result"
    }
   ],
   "source": [
    "Dataset=pd.read_csv('FuelConsumptionCo2.csv')\n",
    "df=Dataset[['ENGINESIZE','CYLINDERS','FUELCONSUMPTION_COMB','CO2EMISSIONS']]\n",
    "df.head()"
   ]
  },
  {
   "cell_type": "markdown",
   "metadata": {},
   "source": [
    "##### `FuelConsumption.csv`:\n",
    "\n",
    "\n",
    "Nous avons télécharger un dataset de consommaton de carburant,**`FuelConsumption.csv`**, qui contient la consomation en carburant de chaque modèle de voiture et ses émissions CO2 pour les voitures au Canada.le dataset est composée d'un échantillon de 1067 modèles de voitures. [Dataset source](http://open.canada.ca/data/en/dataset/98f1a129-f628-4ce4-b24d-6f16bf24dd64?utm_medium=Exinfluencer&utm_source=Exinfluencer&utm_content=000026UJ&utm_term=10006555&utm_id=NA-SkillsNetwork-Channel-SkillsNetworkCoursesIBMDeveloperSkillsNetworkML0101ENSkillsNetwork20718538-2021-01-01)\n",
    "\n",
    "*   **ENGINE SIZE** e.g. 4.7\n",
    "*   **CYLINDERS** e.g 6\n",
    "*   **FUEL CONSUMPTION COMB (L/100 km)** e.g. 9.2\n",
    "*   **CO2 EMISSIONS (g/km)** e.g. 182   --> low --> 0"
   ]
  },
  {
   "cell_type": "markdown",
   "metadata": {},
   "source": [
    "#### Bayesian Likelihood Estimation "
   ]
  },
  {
   "cell_type": "code",
   "execution_count": 152,
   "metadata": {},
   "outputs": [],
   "source": [
    "def bay_max_Lik_reel():\n",
    "    data=np.asanyarray(df)\n",
    "    id=np.ones((data.shape[0],1))\n",
    "    Z=np.concatenate((id,data[:,0:3]), axis=1)\n",
    "    Y=data[:,3].reshape(1067,1)\n",
    "    I_4=np.ones((4,4))\n",
    "    B_BMLE=np.dot(np.linalg.inv((1/sigma_2)*np.dot(np.transpose(Z),Z)-(1/tau_2)*I_4),np.dot(np.transpose(Z),Y)*(1/sigma_2))\n",
    "    return B_BMLE  "
   ]
  },
  {
   "cell_type": "code",
   "execution_count": 159,
   "metadata": {},
   "outputs": [],
   "source": [
    "def bay_max_lik_var_reel():\n",
    "    L=[]\n",
    "    for i in range(1000):\n",
    "        L.append(list(bay_max_Lik_reel()))\n",
    "    ech=np.array(L)\n",
    "    std=np.array([np.std(ech[:,0]),np.std(ech[:,1]),np.std(ech[:,2]),np.std(ech[:,3]) ])\n",
    "    return std "
   ]
  },
  {
   "cell_type": "code",
   "execution_count": 157,
   "metadata": {},
   "outputs": [],
   "source": [
    "def bay_max_lik_est_reel():\n",
    "    bay_max_Lik_est_reel=np.concatenate((bay_max_Lik_reel().reshape(1,4), bay_max_lik_var_reel().reshape(1,4)), axis=0)\n",
    "    summary=pd.DataFrame(bay_max_Lik_est_reel, columns=['B_0','B_1','B_2','B_3'], index=['est','std'])\n",
    "    print('Les estimations MV sont :')\n",
    "    return summary   "
   ]
  },
  {
   "cell_type": "code",
   "execution_count": 160,
   "metadata": {},
   "outputs": [
    {
     "name": "stdout",
     "output_type": "stream",
     "text": [
      "Les estimations MV sont :\n"
     ]
    },
    {
     "data": {
      "text/html": [
       "<div>\n",
       "<style scoped>\n",
       "    .dataframe tbody tr th:only-of-type {\n",
       "        vertical-align: middle;\n",
       "    }\n",
       "\n",
       "    .dataframe tbody tr th {\n",
       "        vertical-align: top;\n",
       "    }\n",
       "\n",
       "    .dataframe thead th {\n",
       "        text-align: right;\n",
       "    }\n",
       "</style>\n",
       "<table border=\"1\" class=\"dataframe\">\n",
       "  <thead>\n",
       "    <tr style=\"text-align: right;\">\n",
       "      <th></th>\n",
       "      <th>B_0</th>\n",
       "      <th>B_1</th>\n",
       "      <th>B_2</th>\n",
       "      <th>B_3</th>\n",
       "    </tr>\n",
       "  </thead>\n",
       "  <tbody>\n",
       "    <tr>\n",
       "      <th>est</th>\n",
       "      <td>65.223328</td>\n",
       "      <td>10.855256</td>\n",
       "      <td>7.516215</td>\n",
       "      <td>9.595629e+00</td>\n",
       "    </tr>\n",
       "    <tr>\n",
       "      <th>std</th>\n",
       "      <td>0.000000</td>\n",
       "      <td>0.000000</td>\n",
       "      <td>0.000000</td>\n",
       "      <td>1.776357e-15</td>\n",
       "    </tr>\n",
       "  </tbody>\n",
       "</table>\n",
       "</div>"
      ],
      "text/plain": [
       "           B_0        B_1       B_2           B_3\n",
       "est  65.223328  10.855256  7.516215  9.595629e+00\n",
       "std   0.000000   0.000000  0.000000  1.776357e-15"
      ]
     },
     "execution_count": 160,
     "metadata": {},
     "output_type": "execute_result"
    }
   ],
   "source": [
    "bay_max_lik_est_reel()"
   ]
  },
  {
   "cell_type": "markdown",
   "metadata": {},
   "source": [
    "#### Bayesian Generalized Method of Moment"
   ]
  },
  {
   "cell_type": "code",
   "execution_count": 146,
   "metadata": {},
   "outputs": [],
   "source": [
    "data=np.asanyarray(df)\n",
    "id=np.ones((data.shape[0],1))\n",
    "Z=np.concatenate((id,data[:,0:3]), axis=1)\n",
    "Y=data[:,3].reshape(1067,1)"
   ]
  },
  {
   "cell_type": "code",
   "execution_count": 166,
   "metadata": {},
   "outputs": [],
   "source": [
    "### LOI POSTERIORI COND DE B_0\n",
    "def sim_P_B_0(B_1,B_2,B_3,Y,Z):  # Z ici contient uniquement Z1,i et Z2,i\n",
    "    B=np.array([B_1,B_2,B_3])\n",
    "    m=Y-np.dot(Z[:,1:],B)\n",
    "    s_2=0\n",
    "    for e in m:\n",
    "        s_2+=e**2\n",
    "    s_1=0\n",
    "    for e in m:\n",
    "        s_1+=e\n",
    "    mean=(1/sigma_2)*s_2\n",
    "    term_1=(n/sigma_2)+(1/tau_2)\n",
    "    term_2=(2/sigma_2)*s_1\n",
    "    var=1/(term_1+term_2)\n",
    "    B_0=np.random.normal(mean,sqrt(var))\n",
    "    return B_0"
   ]
  },
  {
   "cell_type": "code",
   "execution_count": 167,
   "metadata": {},
   "outputs": [],
   "source": [
    "### LOI POSTERIORI COND DE B_1\n",
    "def sim_P_B_1(B_0,B_2,B_3,Y,Z):  # Z ici contient uniquement 1 et Z2,i\n",
    "    B=np.array([B_0,B_2,B_3])\n",
    "    P=Y-np.dot(Z[:,[0,2]],B)\n",
    "    L=[]\n",
    "    for i in range(P.shape[0]):\n",
    "        e=P[i]/Z[i,1]\n",
    "        L.append(e)\n",
    "    m=np.array(L)\n",
    "    s_2=0\n",
    "    for e in m:\n",
    "        s_2+=e**2\n",
    "    s_1=0\n",
    "    for i in range(m.shape[0]):\n",
    "        s_1+=m[i]*Z[i,1]\n",
    "    s_3=0\n",
    "    for j in range(m.shape[0]):\n",
    "        s_3+=Z[i,1]**2    \n",
    "    mean=(1/sigma_2)*s_2\n",
    "    term_1=(2/sigma_2)*s_1\n",
    "    term_2=(1/sigma_2)*s_3\n",
    "    var=-term_1+term_2+(1/tau_2)\n",
    "    B_1=np.random.normal(mean,sqrt(var))\n",
    "    return B_1"
   ]
  },
  {
   "cell_type": "code",
   "execution_count": 169,
   "metadata": {},
   "outputs": [],
   "source": [
    "### LOI POSTERIORI COND DE B_2\n",
    "def sim_P_B_2(B_0,B_1,B_3,Y,Z):  # Z ici contient uniquement 1 et Z1,i\n",
    "    B=np.array([B_0,B_1,B_3])\n",
    "    P=Y-np.dot(Z[:,0:2],B)\n",
    "    L=[]\n",
    "    for i in range(P.shape[0]):\n",
    "        e=P[i]/Z[i,2]\n",
    "        L.append(e)\n",
    "    m=np.array(L)\n",
    "    s_2=0\n",
    "    for e in m:\n",
    "        s_2+=e**2\n",
    "    s_1=0\n",
    "    for i in range(m.shape[0]):\n",
    "        s_1+=m[i]*Z[i,2]\n",
    "    s_3=0\n",
    "    for j in range(m.shape[0]):\n",
    "        s_3+=Z[i,2]**2    \n",
    "    mean=(1/sigma_2)*s_2\n",
    "    term_1=(2/sigma_2)*s_1\n",
    "    term_2=(1/sigma_2)*s_3\n",
    "    var=term_1+term_2+(1/tau_2)\n",
    "    B_2=np.random.normal(mean,sqrt(var))\n",
    "    return B_2"
   ]
  },
  {
   "cell_type": "code",
   "execution_count": 170,
   "metadata": {},
   "outputs": [],
   "source": [
    "### LOI POSTERIORI COND DE B_2\n",
    "def sim_P_B_3(B_0,B_1,B_2,Y,Z):  # Z ici contient uniquement 1 et Z1,i\n",
    "    B=np.array([B_0,B_1,B_2])\n",
    "    P=Y-np.dot(Z[:,0:2],B)\n",
    "    L=[]\n",
    "    for i in range(P.shape[0]):\n",
    "        e=P[i]/Z[i,2]\n",
    "        L.append(e)\n",
    "    m=np.array(L)\n",
    "    s_2=0\n",
    "    for e in m:\n",
    "        s_2+=e**2\n",
    "    s_1=0\n",
    "    for i in range(m.shape[0]):\n",
    "        s_1+=m[i]*Z[i,2]\n",
    "    s_3=0\n",
    "    for j in range(m.shape[0]):\n",
    "        s_3+=Z[i,2]**2    \n",
    "    mean=(1/sigma_2)*s_2\n",
    "    term_1=(2/sigma_2)*s_1\n",
    "    term_2=(1/sigma_2)*s_3\n",
    "    var=term_1+term_2+(1/tau_2)\n",
    "    B_3=np.random.normal(mean,sqrt(var))\n",
    "    return B_3"
   ]
  },
  {
   "cell_type": "code",
   "execution_count": 132,
   "metadata": {},
   "outputs": [],
   "source": [
    "def gibbs_sampling_2(B_0_0,B_1_0,B_2_0,B_3_0,n_iter):\n",
    "    sample=np.empty((n_iter,4), dtype=float)\n",
    "    B_0=B_0_0\n",
    "    B_1=B_1_0\n",
    "    B_2=B_2_0\n",
    "    B_3=B_3_0\n",
    "    for k in range(n_iter):\n",
    "        L=[]\n",
    "        B_0_k=sim_P_B_0(B_1,B_2,B_3,Y,Z)\n",
    "        B_1_k=sim_P_B_1(B_0_k,B_2,B_3,Y,Z)\n",
    "        B_2_k=sim_P_B_2(B_0_k,B_1_k,B_3,Y,Z)\n",
    "        B_3_k=sim_P_B_2(B_0_k,B_1_k,B_2_k,Y,Z)\n",
    "        L.append(B_0_k)\n",
    "        L.append(B_1_k)\n",
    "        L.append(B_2_k)\n",
    "        L.append(B_3_k)\n",
    "        sample[k]=L\n",
    "        B_0=B_0_k\n",
    "        B_1=B_1_k\n",
    "        B_2=B_2_k\n",
    "        B_3=B_3_k\n",
    "    return sample"
   ]
  },
  {
   "cell_type": "code",
   "execution_count": 150,
   "metadata": {},
   "outputs": [],
   "source": [
    "def BGMM_est_reel(n_iter):\n",
    "    L=gibbs_sampling_2(0,0,0,0,n_iter)\n",
    "    est=np.array([np.mean(L[:,0]),np.mean(L[:,1]),np.mean(L[:,2]),np.mean(L[:,3])])\n",
    "    std=np.array([np.std(L[:,0]),np.std(L[:,1]),np.std(L[:,2]),np.std(L[:,3])])\n",
    "    BGMM_sum=np.concatenate((est.reshape(1,4), std.reshape(1,4)), axis=0)\n",
    "    summary=pd.DataFrame( BGMM_sum, columns=['B_0','B_1','B_2','B_3'], index=['est','std'])\n",
    "    print('Les estimations BGMM sont :'.format(n))\n",
    "    return summary   "
   ]
  },
  {
   "cell_type": "code",
   "execution_count": 151,
   "metadata": {},
   "outputs": [
    {
     "name": "stdout",
     "output_type": "stream",
     "text": [
      "Les estimations BGMM sont :\n"
     ]
    },
    {
     "data": {
      "text/html": [
       "<div>\n",
       "<style scoped>\n",
       "    .dataframe tbody tr th:only-of-type {\n",
       "        vertical-align: middle;\n",
       "    }\n",
       "\n",
       "    .dataframe tbody tr th {\n",
       "        vertical-align: top;\n",
       "    }\n",
       "\n",
       "    .dataframe thead th {\n",
       "        text-align: right;\n",
       "    }\n",
       "</style>\n",
       "<table border=\"1\" class=\"dataframe\">\n",
       "  <thead>\n",
       "    <tr style=\"text-align: right;\">\n",
       "      <th></th>\n",
       "      <th>B_0</th>\n",
       "      <th>B_1</th>\n",
       "      <th>B_2</th>\n",
       "      <th>B_3</th>\n",
       "    </tr>\n",
       "  </thead>\n",
       "  <tbody>\n",
       "    <tr>\n",
       "      <th>est</th>\n",
       "      <td>64.999416</td>\n",
       "      <td>11.000195</td>\n",
       "      <td>7.999677</td>\n",
       "      <td>7.999847</td>\n",
       "    </tr>\n",
       "    <tr>\n",
       "      <th>std</th>\n",
       "      <td>0.033824</td>\n",
       "      <td>0.049818</td>\n",
       "      <td>0.083804</td>\n",
       "      <td>0.084605</td>\n",
       "    </tr>\n",
       "  </tbody>\n",
       "</table>\n",
       "</div>"
      ],
      "text/plain": [
       "           B_0        B_1       B_2       B_3\n",
       "est  64.999416  11.000195  7.999677  7.999847\n",
       "std   0.033824   0.049818  0.083804  0.084605"
      ]
     },
     "execution_count": 151,
     "metadata": {},
     "output_type": "execute_result"
    }
   ],
   "source": [
    "BGMM_est_reel(10000)"
   ]
  },
  {
   "cell_type": "markdown",
   "metadata": {},
   "source": [
    "Nous pouvons constater que la méthode de Bayesian GMM présentée dans l'article de Guosheng Yin marche bien dans le cas ou les méthodes classiques type MLE marchent aussi. Bayesian GMM présente une utilité particulière dans le cas ou il est difficle d'obtenir la vraissemblance. Par exemple dans le cas ou les observations sont corrélées et la structure de la correlation est non connue, obtenir la vraissemblancen'est pas possible. BGMM approxime cette vraissemblance et propose une postériori, suivant la même logique de la règle de bayes et des GMM. "
   ]
  }
 ],
 "metadata": {
  "kernelspec": {
   "display_name": "Python 3",
   "language": "python",
   "name": "python3"
  },
  "language_info": {
   "codemirror_mode": {
    "name": "ipython",
    "version": 3
   },
   "file_extension": ".py",
   "mimetype": "text/x-python",
   "name": "python",
   "nbconvert_exporter": "python",
   "pygments_lexer": "ipython3",
   "version": "3.8.5"
  }
 },
 "nbformat": 4,
 "nbformat_minor": 4
}
